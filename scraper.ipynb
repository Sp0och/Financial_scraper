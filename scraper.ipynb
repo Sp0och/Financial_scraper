{
 "cells": [
  {
   "attachments": {},
   "cell_type": "markdown",
   "metadata": {},
   "source": [
    "## Import all necessary Modules\n"
   ]
  },
  {
   "cell_type": "code",
   "execution_count": 1,
   "metadata": {},
   "outputs": [
    {
     "ename": "ImportError",
     "evalue": "cannot import name 'beautifulsoup' from 'bs4' (/Library/Frameworks/Python.framework/Versions/3.8/lib/python3.8/site-packages/bs4/__init__.py)",
     "output_type": "error",
     "traceback": [
      "\u001b[0;31m---------------------------------------------------------------------------\u001b[0m",
      "\u001b[0;31mImportError\u001b[0m                               Traceback (most recent call last)",
      "\u001b[1;32m/Users/lfierz/arbeiten/hustle/YT_Carlo/scraper.ipynb Cell 2\u001b[0m in \u001b[0;36m4\n\u001b[1;32m      <a href='vscode-notebook-cell:/Users/lfierz/arbeiten/hustle/YT_Carlo/scraper.ipynb#W0sZmlsZQ%3D%3D?line=0'>1</a>\u001b[0m \u001b[39mimport\u001b[39;00m \u001b[39mpandas\u001b[39;00m \u001b[39mas\u001b[39;00m \u001b[39mpd\u001b[39;00m\n\u001b[1;32m      <a href='vscode-notebook-cell:/Users/lfierz/arbeiten/hustle/YT_Carlo/scraper.ipynb#W0sZmlsZQ%3D%3D?line=2'>3</a>\u001b[0m \u001b[39m# HTML text processing\u001b[39;00m\n\u001b[0;32m----> <a href='vscode-notebook-cell:/Users/lfierz/arbeiten/hustle/YT_Carlo/scraper.ipynb#W0sZmlsZQ%3D%3D?line=3'>4</a>\u001b[0m \u001b[39mfrom\u001b[39;00m \u001b[39mbs4\u001b[39;00m \u001b[39mimport\u001b[39;00m beautifulsoup\n\u001b[1;32m      <a href='vscode-notebook-cell:/Users/lfierz/arbeiten/hustle/YT_Carlo/scraper.ipynb#W0sZmlsZQ%3D%3D?line=5'>6</a>\u001b[0m \u001b[39m# NLP package used to aid in text manipulation\u001b[39;00m\n\u001b[1;32m      <a href='vscode-notebook-cell:/Users/lfierz/arbeiten/hustle/YT_Carlo/scraper.ipynb#W0sZmlsZQ%3D%3D?line=6'>7</a>\u001b[0m \u001b[39mimport\u001b[39;00m \u001b[39mnltk\u001b[39;00m\n",
      "\u001b[0;31mImportError\u001b[0m: cannot import name 'beautifulsoup' from 'bs4' (/Library/Frameworks/Python.framework/Versions/3.8/lib/python3.8/site-packages/bs4/__init__.py)"
     ]
    }
   ],
   "source": [
    "import pandas as pd\n",
    "\n",
    "# HTML text processing\n",
    "from bs4 import BeautifulSoup\n",
    "\n",
    "# NLP package used to aid in text manipulation\n",
    "import nltk\n",
    "from nltk.tokenize import word_tokenize, sent_tokenize\n",
    "\n",
    "# Machine Learning modules used to prepare and measure text\n",
    "from transformers import AutoTokenizer, AutoModelForSequenceClassification\n",
    "from transformers import BertTokenizer, BertForSequenceClassification, pipeline\n",
    "import torch\n",
    "\n",
    "# Helper modules\n",
    "import matplotlib.pyplot as plt\n",
    "from tqdm.notebook import trange  # Progress bar\n",
    "\n",
    "# Refinitiv packages to extract filings data and retrieve price data\n",
    "import refinitiv.dataplatform as rd\n",
    "from refinitiv.dataplatform.content import filings"
   ]
  },
  {
   "cell_type": "code",
   "execution_count": null,
   "metadata": {},
   "outputs": [],
   "source": [
    "\n",
    "# Convenient modules to simplify API access to Filings\n",
    "%run ./FilingsQuery.ipynb\n",
    "%run ./SymbolLookup.ipynb\n",
    "pd.set_option('display.max_colwidth', 60)"
   ]
  }
 ],
 "metadata": {
  "kernelspec": {
   "display_name": "Python 3",
   "language": "python",
   "name": "python3"
  },
  "language_info": {
   "codemirror_mode": {
    "name": "ipython",
    "version": 3
   },
   "file_extension": ".py",
   "mimetype": "text/x-python",
   "name": "python",
   "nbconvert_exporter": "python",
   "pygments_lexer": "ipython3",
   "version": "3.8.10"
  },
  "orig_nbformat": 4
 },
 "nbformat": 4,
 "nbformat_minor": 2
}
